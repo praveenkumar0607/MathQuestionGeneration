{
  "nbformat": 4,
  "nbformat_minor": 0,
  "metadata": {
    "colab": {
      "provenance": []
    },
    "kernelspec": {
      "name": "python3",
      "display_name": "Python 3"
    },
    "language_info": {
      "name": "python"
    }
  },
  "cells": [
    {
      "cell_type": "markdown",
      "source": [
        "# Name = Praveen Kumar\n",
        "# praveenkumar06072002@gmail.com\n",
        "# Maths Question Generation assignment submission by Praveen kumar to HIGHSCORES"
      ],
      "metadata": {
        "id": "SzQ6JEE5ZDRX"
      }
    },
    {
      "cell_type": "code",
      "execution_count": 1,
      "metadata": {
        "colab": {
          "base_uri": "https://localhost:8080/"
        },
        "id": "7EqpHYQpVfGD",
        "outputId": "541d9d1e-64be-4045-c63e-2863535a669b"
      },
      "outputs": [
        {
          "output_type": "stream",
          "name": "stdout",
          "text": [
            "@title Math Assessment Practice\n",
            "@description A practice assessment covering topics in combinatorics and geometry.\n",
            "\n",
            "@question A local pizzeria offers a special where you can choose one crust, one sauce, and one topping. The available options are listed in the table below. How many different pizza combinations are possible?\n",
            "## Pizza Choices\n",
            "\n",
            "| Crust | Sauce | Topping |\n",
            "| :---: | :---: | :---: |\n",
            "| Thin | Tomato | Pepperoni |\n",
            "| Thick | Pesto | Mushrooms|\n",
            "| Stuffed | Alfredo | Onions |\n",
            "| | | Olives |\n",
            "| | | Peppers |\n",
            "\n",
            "@instruction To find the total number of combinations, multiply the number of options for each choice.\n",
            "@difficulty easy\n",
            "@Order 1\n",
            "@option 11\n",
            "@option 15\n",
            "@@option 45\n",
            "@option 30\n",
            "@explanation\n",
            "To find the total number of different pizza combinations, you must multiply the number of choices for each category.\n",
            "- There are 3 choices for the crust (Thin, Thick, Stuffed).\n",
            "- There are 3 choices for the sauce (Tomato, Pesto, Alfredo).\n",
            "- There are 5 choices for the topping (Pepperoni, Mushrooms, Onions, Olives, Peppers).\n",
            "\n",
            "The total number of combinations is the product of the number of options in each category:\n",
            "$3 \\text{ (crusts)} \\times 3 \\text{ (sauces)} \\times 5 \\text{ (toppings)} = 45$\n",
            "Therefore, there are 45 different possible pizza combinations.\n",
            "@subject Quantitative Math\n",
            "@unit Data Analysis & Probability\n",
            "@topic Counting & Arrangement Problems\n",
            "@plusmarks 1\n",
            "\n",
            "\n",
            "@question The diagram shows the top view of a shipping carton packed with identical cylindrical cans. Each can has a height of 15 centimeters and a radius of 3 centimeters. Which of the following are the dimensions, in centimeters, of the smallest possible rectangular carton?\n",
            "[Image description: A top-down view of a rectangle. Inside the rectangle are 12 circles, arranged tightly in 3 columns and 4 rows, representing the tops of the cylindrical cans.]\n",
            "@instruction The dimensions of the carton are its length, width, and height. The length and width are determined by the arrangement and diameter of the cans. The height is determined by the height of a single can.\n",
            "@difficulty moderate\n",
            "@Order 2\n",
            "@option 15 \\times 9 \\times 12\n",
            "@option 15 \\times 24 \\times 18\n",
            "@@option 15 \\times 18 \\times 24\n",
            "@option 30 \\times 18 \\times 24\n",
            "@explanation\n",
            "First, determine the dimensions of a single can.\n",
            "- The radius is given as 3 cm, so the diameter is $2 \\times 3 = 6$ cm.\n",
            "- The height is given as 15 cm.\n",
            "\n",
            "Next, determine the dimensions of the rectangular carton based on the arrangement of the cans.\n",
            "- **Height:** The height of the carton must be at least the height of one can, which is 15 cm.\n",
            "- **Width:** The diagram shows 3 cans arranged side-by-side along the width. The width of the carton is the sum of their diameters: $3 \\text{ cans} \\times 6 \\text{ cm/can} = 18$ cm.\n",
            "- **Length:** The diagram shows 4 cans arranged side-by-side along the length. The length of the carton is the sum of their diameters: $4 \\text{ cans} \\times 6 \\text{ cm/can} = 24$ cm.\n",
            "\n",
            "The dimensions of the smallest possible rectangular carton are Height x Width x Length, which are $15 \\text{ cm} \\times 18 \\text{ cm} \\times 24 \\text{ cm}$.\n",
            "@subject Quantitative Math\n",
            "@unit Geometry and Measurement\n",
            "@topic Area & Volume\n",
            "@plusmarks 1\n",
            "\n"
          ]
        }
      ],
      "source": [
        "import math\n",
        "\n",
        "def generate_combinatorics_question():\n",
        "    \"\"\"\n",
        "    Generates a multiple-choice question about combinatorics based on pizza choices.\n",
        "    \"\"\"\n",
        "    #Question Data\n",
        "    choices = {\n",
        "        \"crust\": [\"Thin\", \"Thick\", \"Stuffed\"],\n",
        "        \"sauce\": [\"Tomato\", \"Pesto\", \"Alfredo\"],\n",
        "        \"topping\": [\"Pepperoni\", \"Mushrooms\", \"Onions\", \"Olives\", \"Peppers\"]\n",
        "    }\n",
        "\n",
        "    num_crusts = len(choices[\"crust\"])\n",
        "    num_sauces = len(choices[\"sauce\"])\n",
        "    num_toppings = len(choices[\"topping\"])\n",
        "\n",
        "    #Calculation\n",
        "    correct_answer = num_crusts * num_sauces * num_toppings\n",
        "\n",
        "    #Distractors\n",
        "    # A common mistake is to add instead of multiply\n",
        "    distractor1 = num_crusts + num_sauces + num_toppings\n",
        "    # Other plausible but incorrect calculations\n",
        "    distractor2 = num_crusts * num_toppings\n",
        "    distractor3 = (num_crusts + num_sauces) * num_toppings\n",
        "\n",
        "    #Curriculum Information\n",
        "    subject = \"Quantitative Math\"\n",
        "    unit = \"Data Analysis & Probability\"\n",
        "    topic = \"Counting & Arrangement Problems\"\n",
        "\n",
        "    #Formatting the Output\n",
        "    question_block = f\"\"\"\n",
        "@question A local pizzeria offers a special where you can choose one crust, one sauce, and one topping. The available options are listed in the table below. How many different pizza combinations are possible?\n",
        "## Pizza Choices\n",
        "\n",
        "| Crust | Sauce | Topping |\n",
        "| :---: | :---: | :---: |\n",
        "| Thin | Tomato | Pepperoni |\n",
        "| Thick | Pesto | Mushrooms|\n",
        "| Stuffed | Alfredo | Onions |\n",
        "| | | Olives |\n",
        "| | | Peppers |\n",
        "\n",
        "@instruction To find the total number of combinations, multiply the number of options for each choice.\n",
        "@difficulty easy\n",
        "@Order 1\n",
        "@option {distractor1}\n",
        "@option {distractor2}\n",
        "@@option {correct_answer}\n",
        "@option {distractor3}\n",
        "@explanation\n",
        "To find the total number of different pizza combinations, you must multiply the number of choices for each category.\n",
        "- There are {num_crusts} choices for the crust ({', '.join(choices['crust'])}).\n",
        "- There are {num_sauces} choices for the sauce ({', '.join(choices['sauce'])}).\n",
        "- There are {num_toppings} choices for the topping ({', '.join(choices['topping'])}).\n",
        "\n",
        "The total number of combinations is the product of the number of options in each category:\n",
        "${num_crusts} \\\\text{{ (crusts)}} \\\\times {num_sauces} \\\\text{{ (sauces)}} \\\\times {num_toppings} \\\\text{{ (toppings)}} = {correct_answer}$\n",
        "Therefore, there are {correct_answer} different possible pizza combinations.\n",
        "@subject {subject}\n",
        "@unit {unit}\n",
        "@topic {topic}\n",
        "@plusmarks 1\n",
        "\"\"\"\n",
        "    return question_block\n",
        "\n",
        "def generate_geometry_question():\n",
        "    \"\"\"\n",
        "    Generates a multiple-choice question about the dimensions of a package.\n",
        "    \"\"\"\n",
        "    #Question Data\n",
        "    can_height = 15\n",
        "    can_radius = 3\n",
        "    arrangement_cols = 3\n",
        "    arrangement_rows = 4\n",
        "\n",
        "    #Calculation\n",
        "    can_diameter = 2 * can_radius\n",
        "    carton_height = can_height\n",
        "    carton_width = arrangement_cols * can_diameter\n",
        "    carton_length = arrangement_rows * can_diameter\n",
        "\n",
        "    correct_answer = f\"{carton_height} \\\\times {carton_width} \\\\times {carton_length}\"\n",
        "    distractor1 = f\"{carton_height} \\\\times {arrangement_cols * can_radius} \\\\times {arrangement_rows * can_radius}\"\n",
        "    distractor2 = f\"{carton_height} \\\\times {carton_length} \\\\times {carton_width}\"\n",
        "    distractor3 = f\"{carton_height * 2} \\\\times {carton_width} \\\\times {carton_length}\"\n",
        "    subject = \"Quantitative Math\"\n",
        "    unit = \"Geometry and Measurement\"\n",
        "    topic = \"Area & Volume\"\n",
        "    question_block = f\"\"\"\n",
        "@question The diagram shows the top view of a shipping carton packed with identical cylindrical cans. Each can has a height of {can_height} centimeters and a radius of {can_radius} centimeters. Which of the following are the dimensions, in centimeters, of the smallest possible rectangular carton?\n",
        "[Image description: A top-down view of a rectangle. Inside the rectangle are {arrangement_cols * arrangement_rows} circles, arranged tightly in {arrangement_cols} columns and {arrangement_rows} rows, representing the tops of the cylindrical cans.]\n",
        "@instruction The dimensions of the carton are its length, width, and height. The length and width are determined by the arrangement and diameter of the cans. The height is determined by the height of a single can.\n",
        "@difficulty moderate\n",
        "@Order 2\n",
        "@option {distractor1}\n",
        "@option {distractor2}\n",
        "@@option {correct_answer}\n",
        "@option {distractor3}\n",
        "@explanation\n",
        "First, determine the dimensions of a single can.\n",
        "- The radius is given as {can_radius} cm, so the diameter is $2 \\\\times {can_radius} = {can_diameter}$ cm.\n",
        "- The height is given as {can_height} cm.\n",
        "\n",
        "Next, determine the dimensions of the rectangular carton based on the arrangement of the cans.\n",
        "- **Height:** The height of the carton must be at least the height of one can, which is {carton_height} cm.\n",
        "- **Width:** The diagram shows {arrangement_cols} cans arranged side-by-side along the width. The width of the carton is the sum of their diameters: ${arrangement_cols} \\\\text{{ cans}} \\\\times {can_diameter} \\\\text{{ cm/can}} = {carton_width}$ cm.\n",
        "- **Length:** The diagram shows {arrangement_rows} cans arranged side-by-side along the length. The length of the carton is the sum of their diameters: ${arrangement_rows} \\\\text{{ cans}} \\\\times {can_diameter} \\\\text{{ cm/can}} = {carton_length}$ cm.\n",
        "\n",
        "The dimensions of the smallest possible rectangular carton are Height x Width x Length, which are ${carton_height} \\\\text{{ cm}} \\\\times {carton_width} \\\\text{{ cm}} \\\\times {carton_length} \\\\text{{ cm}}$.\n",
        "@subject {subject}\n",
        "@unit {unit}\n",
        "@topic {topic}\n",
        "@plusmarks 1\n",
        "\"\"\"\n",
        "    return question_block\n",
        "\n",
        "if __name__ == \"__main__\":\n",
        "    print(\"@title Math Assessment Practice\")\n",
        "    print(\"@description A practice assessment covering topics in combinatorics and geometry.\")\n",
        "    q1 = generate_combinatorics_question()\n",
        "    print(q1)\n",
        "    q2 = generate_geometry_question()\n",
        "    print(q2)"
      ]
    },
    {
      "cell_type": "code",
      "source": [
        "pip install python-docx requests"
      ],
      "metadata": {
        "colab": {
          "base_uri": "https://localhost:8080/"
        },
        "id": "ht4zju4XW8Mj",
        "outputId": "ab65a29d-8604-4d6f-952c-bfee87ddaf60"
      },
      "execution_count": 2,
      "outputs": [
        {
          "output_type": "stream",
          "name": "stdout",
          "text": [
            "Collecting python-docx\n",
            "  Downloading python_docx-1.2.0-py3-none-any.whl.metadata (2.0 kB)\n",
            "Requirement already satisfied: requests in /usr/local/lib/python3.11/dist-packages (2.32.3)\n",
            "Requirement already satisfied: lxml>=3.1.0 in /usr/local/lib/python3.11/dist-packages (from python-docx) (5.4.0)\n",
            "Requirement already satisfied: typing_extensions>=4.9.0 in /usr/local/lib/python3.11/dist-packages (from python-docx) (4.14.1)\n",
            "Requirement already satisfied: charset-normalizer<4,>=2 in /usr/local/lib/python3.11/dist-packages (from requests) (3.4.2)\n",
            "Requirement already satisfied: idna<4,>=2.5 in /usr/local/lib/python3.11/dist-packages (from requests) (3.10)\n",
            "Requirement already satisfied: urllib3<3,>=1.21.1 in /usr/local/lib/python3.11/dist-packages (from requests) (2.5.0)\n",
            "Requirement already satisfied: certifi>=2017.4.17 in /usr/local/lib/python3.11/dist-packages (from requests) (2025.8.3)\n",
            "Downloading python_docx-1.2.0-py3-none-any.whl (252 kB)\n",
            "\u001b[?25l   \u001b[90m━━━━━━━━━━━━━━━━━━━━━━━━━━━━━━━━━━━━━━━━\u001b[0m \u001b[32m0.0/253.0 kB\u001b[0m \u001b[31m?\u001b[0m eta \u001b[36m-:--:--\u001b[0m\r\u001b[2K   \u001b[91m━━━━━━━━━━━━━━━━━━━━━━━━\u001b[0m\u001b[90m╺\u001b[0m\u001b[90m━━━━━━━━━━━━━━━\u001b[0m \u001b[32m153.6/253.0 kB\u001b[0m \u001b[31m4.8 MB/s\u001b[0m eta \u001b[36m0:00:01\u001b[0m\r\u001b[2K   \u001b[90m━━━━━━━━━━━━━━━━━━━━━━━━━━━━━━━━━━━━━━━━\u001b[0m \u001b[32m253.0/253.0 kB\u001b[0m \u001b[31m4.7 MB/s\u001b[0m eta \u001b[36m0:00:00\u001b[0m\n",
            "\u001b[?25hInstalling collected packages: python-docx\n",
            "Successfully installed python-docx-1.2.0\n"
          ]
        }
      ]
    },
    {
      "cell_type": "code",
      "source": [
        "from docx import Document\n",
        "document = Document()\n",
        "document.add_paragraph(q1)\n",
        "document.add_paragraph(\"\\n---\\n\")\n",
        "document.add_paragraph(q2)\n",
        "file_name = \"assessment_questions.docx\"\n",
        "document.save(file_name)\n",
        "\n",
        "print(f\"Successfully exported the two questions to '{file_name}'\")"
      ],
      "metadata": {
        "colab": {
          "base_uri": "https://localhost:8080/"
        },
        "id": "U6KN4N0RXNwL",
        "outputId": "8bfdcb56-4d5b-4a06-8544-3b8fc02994ad"
      },
      "execution_count": 5,
      "outputs": [
        {
          "output_type": "stream",
          "name": "stdout",
          "text": [
            "Successfully exported the two questions to 'assessment_questions.docx'\n"
          ]
        }
      ]
    }
  ]
}